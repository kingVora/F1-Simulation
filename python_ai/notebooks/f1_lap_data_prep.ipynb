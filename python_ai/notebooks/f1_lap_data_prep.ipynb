{
 "cells": [
  {
   "cell_type": "code",
   "execution_count": null,
   "id": "0",
   "metadata": {},
   "outputs": [],
   "source": [
    "pip install pandas psycopg2"
   ]
  },
  {
   "cell_type": "code",
   "execution_count": null,
   "id": "1",
   "metadata": {},
   "outputs": [],
   "source": [
    "import pandas as pd\n",
    "import psycopg2\n",
    "import os\n",
    "\n",
    "conn = psycopg2.connect(\n",
    "    dbname=\"f1\",\n",
    "    user=\"postgres\",\n",
    "    password=\"Theshield193\",\n",
    "    host=\"localhost\"\n",
    ")\n",
    "\n",
    "sql = \"\"\"\n",
    "WITH weather_avg as (\n",
    "    SELECT session_key, AVG(track_temperature) as avg_track_temperature\n",
    "    FROM weather\n",
    "    GROUP BY session_key\n",
    ")\n",
    "SELECT \n",
    "    l.lap_number,\n",
    "    l.duration_sector_1,\n",
    "    l.duration_sector_2,\n",
    "    l.duration_sector_3,\n",
    "    s.session_type,\n",
    "    st.compound,\n",
    "    st.tyre_age_at_start,\n",
    "    w.avg_track_temperature as track_temperature,\n",
    "    d.driver_number,\n",
    "    l.session_key\n",
    "FROM laps l\n",
    "JOIN sessions s ON l.session_key = s.session_key\n",
    "JOIN stint st ON l.session_key = st.session_key AND l.driver_number = st.driver_number and l.lap_number between st.lap_start and st.lap_end\n",
    "JOIN weather_avg w ON l.session_key = w.session_key\n",
    "JOIN driver d on l.driver_number = d.driver_number\n",
    "WHERE s.session_type = 'Race'\n",
    "ORDER BY l.lap_number, l.session_key\n",
    ";\n",
    "\"\"\"\n",
    "\n",
    "# Load the sql data in a pandas dataframe\n",
    "df = pd.read_sql(sql,conn)\n",
    "\n",
    "df['compound'] = df['compound'].astype(str);\n",
    "df['session_type'] = df['session_type'].astype(str);\n",
    "\n",
    "df.head()\n",
    "\n",
    "# df.groupby(['session_key', 'lap_number', 'driver_number']).size()\n",
    "\n",
    "output_folder = \"../data\"\n",
    "\n",
    "csv_path = os.path.join(output_folder, \"f1_lap_training_csv\")\n",
    "print(f\"Path: {csv_path}\")\n",
    "df.to_csv(csv_path, index=False)\n",
    "\n",
    "print(f\"✅ Dataset created: {csv_path}\")"
   ]
  },
  {
   "cell_type": "code",
   "execution_count": null,
   "id": "2",
   "metadata": {},
   "outputs": [],
   "source": []
  }
 ],
 "metadata": {
  "kernelspec": {
   "display_name": "Python 3 (ipykernel)",
   "language": "python",
   "name": "python3"
  },
  "language_info": {
   "codemirror_mode": {
    "name": "ipython",
    "version": 3
   },
   "file_extension": ".py",
   "mimetype": "text/x-python",
   "name": "python",
   "nbconvert_exporter": "python",
   "pygments_lexer": "ipython3",
   "version": "3.13.9"
  }
 },
 "nbformat": 4,
 "nbformat_minor": 5
}
